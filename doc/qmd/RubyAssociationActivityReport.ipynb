{
  "cells": [
    {
      "cell_type": "raw",
      "metadata": {},
      "source": [
        "---\n",
        "title: Ruby Association Activity Report\n",
        "---"
      ],
      "id": "b40aba09"
    },
    {
      "cell_type": "markdown",
      "metadata": {},
      "source": [
        "## Ruby Association Activity Report\n",
        "# RedAmber - A simple dataframe library for Ruby\n",
        "\n",
        "### 鈴木弘一 (@heronshoes)\n",
        "\n",
        "\n",
        "## 今日のお話\n",
        "\n",
        "- この発表のサポートページがあります。\n",
        "  - https://github.com/heronshoes/red_amber_activity_report\n",
        "\n",
        "- [RedAmber](https://github.com/red-data-tools/red_amber) というデータフレームライブラリを作っています\n",
        "  - Apache Arrow の列指向のデータを扱えるライブラリ\n",
        "  - Ruby らしい書き方でデータフレームの操作ができることを目指しています\n",
        "    - 以前はライブラリの紹介文は「A simple dataframe library for Ruby」でしたが、最近「A dataframe library for Rubyists」に変えました\n",
        "\n",
        "- Grant では主要な機能の実装を完成し、高速化、ドキュメント整備を頑張りました\n",
        "  - 成果は[最終報告書](https://gist.github.com/heronshoes/d301bfd58adfbf51e28584bf2e68c190) にまとめてあります\n",
        "  - RubyKaigi と その follow-up eventでもRedAmberの紹介をさせて頂きました（ありがとうございます）\n",
        "- **今日は Grant 以前と以降の結果も交えてデモを行いながら、RubyらしいデータフレームとしてのRedAmber を作る際に考えていたことをお話しします**\n",
        "\n",
        "## self.introduction\n",
        "\n",
        "- 鈴木弘一 (Hirokazu SUZUKI)\n",
        "- GitHub/ex-Twitter: @heronshoes\n",
        "- 広島県福山市に住んでいます\n",
        "\n",
        "  ![福山市](https://www.city.fukuyama.hiroshima.jp/img/common/logo.png) [Batman](https://github.com/heronshoes/red_amber_activity_report/assets/63298319/d94af4c7-2575-4a50-9f00-d28d55e085e7)\n",
        "- Ruby愛好家というタイプのRubyist\n",
        "- Red Data Tools / Rubyでデータ処理\n",
        "- コーヒーとクラフトビールとMINIが好き 今は短歌がマイブームです\n",
        "\n",
        "よろしくお願いします。\n",
        "\n",
        "## RedAmber を動かす\n"
      ],
      "id": "5fccbba1"
    },
    {
      "cell_type": "code",
      "metadata": {},
      "source": [
        "require 'red_amber'\n",
        "require 'datasets-arrow'  # red-datasets（有名なデータセットを集めたライブラリ）を arrowと連携できるようにしたもの\n",
        "\n",
        "{ RedAmber: RedAmber::VERSION, Arrow: Arrow::VERSION, Datasets: Datasets::VERSION, Ruby: RUBY_VERSION }"
      ],
      "id": "3b4fb788",
      "execution_count": null,
      "outputs": []
    },
    {
      "cell_type": "markdown",
      "metadata": {},
      "source": [
        "## データフレームとは何か\n",
        "\n",
        "- データフレームは、列にラベルを持った二次元のデータ構造\n",
        "- Pythonのpandas、Rのdplyr/tidyr、RustのPolars、RubyでもDaruがある\n",
        "  - Ruby Association Grantでも過去にデータフレームの取り組みがあった\n",
        "- SQLのテーブルと共通する部分が多い概念\n",
        "\n",
        "![DataFrame in RedAmber](https://github.com/heronshoes/red_amber_activity_report/assets/63298319/4379918e-86ff-4bdd-b6a2-69aacbcaa365)\n",
        "\n",
        "![dataframe model of RedAmber](https://raw.githubusercontent.com/red-data-tools/red_amber/main/doc/image/dataframe_model.png)\n",
        "\n",
        "```python\n",
        "df = pd.DataFrame(np.arange(12).reshape(3, 4),\n",
        "                  columns=['col_0', 'col_1', 'col_2', 'col_3'],\n",
        "                  index=['row_0', 'row_1', 'row_2'])\n",
        "print(df)\n",
        "#        col_0  col_1  col_2  col_3\n",
        "# row_0      0      1      2      3\n",
        "# row_1      4      5      6      7\n",
        "# row_2      8      9     10     11\n",
        "```\n",
        "\n",
        "RedAmberでは、行インデックスは特別扱いしないで、一つの列として扱う\n"
      ],
      "id": "6049654e"
    },
    {
      "cell_type": "code",
      "metadata": {},
      "source": [
        "require 'arrow-numo-narray'\n",
        "n_rows, n_cols = 3, 4\n",
        "RedAmber::DataFrame.new(index: (0...n_rows).map { \"row_#{_1}\" })\n",
        "  .assign do\n",
        "    narray = Numo::Int8.new(n_rows, n_cols).seq\n",
        "    (0...n_cols).map { |i| [\"col_#{i}\", narray[true, i]] }\n",
        "  end"
      ],
      "id": "7f61a9a9",
      "execution_count": null,
      "outputs": []
    },
    {
      "cell_type": "markdown",
      "metadata": {},
      "source": [
        "![Vectorのメソッド](https://github.com/heronshoes/red_amber_activity_report/assets/63298319/e9416899-5219-4551-a059-a836dd633900)\n",
        "\n",
        "参考）[Apache ArrowとRedAmber](https://github.com/heronshoes/red_amber_activity_report/assets/63298319/22852887-2eed-4330-95bf-249c2a39c80b)\n",
        "\n",
        "## Penguins データを読み込んでみる\n",
        "\n",
        "元データは、Rの　palmerpenguins データセット,\n",
        "Red Datasetsから取得できる.\n"
      ],
      "id": "be190de6"
    },
    {
      "cell_type": "code",
      "metadata": {},
      "source": [
        "penguins = RedAmber::DataFrame.new(Datasets::Penguins.new)"
      ],
      "id": "e69d3b02",
      "execution_count": null,
      "outputs": []
    },
    {
      "cell_type": "markdown",
      "metadata": {},
      "source": [
        "データフレームの要約を行と列を転置して表示させる `#tdr` メソッド\n",
        "- type : データの型 (Arrow Array の型)\n",
        "- level : ユニークな要素の数 (カテゴリー数)\n",
        "- データは tallyした形式または部分 Array で表示、nil と NaN の数も表示する\n"
      ],
      "id": "a4b3bcdb"
    },
    {
      "cell_type": "code",
      "metadata": {},
      "source": [
        "penguins.tdr"
      ],
      "id": "9a42ce45",
      "execution_count": null,
      "outputs": []
    },
    {
      "cell_type": "markdown",
      "metadata": {},
      "source": [
        "Rでは,\n",
        "```\n",
        "str(penguins)\n",
        "\n",
        "#> tibble [344 × 8] (S3: tbl_df/tbl/data.frame)\n",
        "#>  $ species          : Factor w/ 3 levels \"Adelie\",\"Chinstrap\",..: 1 1 1 1 1 1 1 1 1 1 ...\n",
        "#>  $ island           : Factor w/ 3 levels \"Biscoe\",\"Dream\",..: 3 3 3 3 3 3 3 3 3 3 ...\n",
        "#>  $ bill_length_mm   : num [1:344] 39.1 39.5 40.3 NA 36.7 39.3 38.9 39.2 34.1 42 ...\n",
        "#>  $ bill_depth_mm    : num [1:344] 18.7 17.4 18 NA 19.3 20.6 17.8 19.6 18.1 20.2 ...\n",
        "#>  $ flipper_length_mm: int [1:344] 181 186 195 NA 193 190 181 195 193 190 ...\n",
        "#>  $ body_mass_g      : int [1:344] 3750 3800 3250 NA 3450 3650 3625 4675 3475 4250 ...\n",
        "#>  $ sex              : Factor w/ 2 levels \"female\",\"male\": 2 1 1 NA 1 2 1 2 NA NA ...\n",
        "#>  $ year             : int [1:344] 2007 2007 2007 2007 2007 2007 2007 2007 2007 2007 ...\n",
        "```\n",
        "\n",
        "`#tdr` は、transposed dataframe representation の頭文字\n",
        "\n",
        "※ (RedAmberで工夫したことその1) **データフレームの内容をコンパクトに理解するための `#tdr` メソッドを作った**\n",
        "\n",
        "数値的な要約＝統計量を表示する\n",
        "- count : Varid な要素の数 (nil, NaNを除く）\n",
        "- pandas とは違って、転置して表示している\n"
      ],
      "id": "87532ba2"
    },
    {
      "cell_type": "code",
      "metadata": {},
      "source": [
        "penguins.summary"
      ],
      "id": "9b91b46a",
      "execution_count": null,
      "outputs": []
    },
    {
      "cell_type": "code",
      "metadata": {},
      "source": [
        "penguins.summary.transpose"
      ],
      "id": "d57abeef",
      "execution_count": null,
      "outputs": []
    },
    {
      "cell_type": "markdown",
      "metadata": {},
      "source": [
        "## Diamonds データセットを読み込んで例を示す\n",
        "\n",
        "元データは、Rの　「Prices of over 50,000 round cut diamonds」,\n",
        "Red Datasetsから利用できる.\n"
      ],
      "id": "df6bcbb0"
    },
    {
      "cell_type": "code",
      "metadata": {},
      "source": [
        "diamonds = RedAmber::DataFrame.new(Datasets::Diamonds.new)"
      ],
      "id": "6afb27dc",
      "execution_count": null,
      "outputs": []
    },
    {
      "cell_type": "code",
      "metadata": {},
      "source": [
        "diamonds.tdr"
      ],
      "id": "c0b272d7",
      "execution_count": null,
      "outputs": []
    },
    {
      "cell_type": "code",
      "metadata": {},
      "source": [
        "diamonds.carat"
      ],
      "id": "ce53ef0f",
      "execution_count": null,
      "outputs": []
    },
    {
      "cell_type": "code",
      "metadata": {},
      "source": [
        "diamonds.carat.mean"
      ],
      "id": "108d96d4",
      "execution_count": null,
      "outputs": []
    },
    {
      "cell_type": "code",
      "metadata": {},
      "source": [
        "diamonds.carat.quantiles"
      ],
      "id": "29893992",
      "execution_count": null,
      "outputs": []
    },
    {
      "cell_type": "code",
      "metadata": {},
      "source": [
        "diamonds.carat > 1\n",
        "# (diamonds.carat > 1).tally"
      ],
      "id": "38f39b02",
      "execution_count": null,
      "outputs": []
    },
    {
      "cell_type": "code",
      "metadata": {},
      "source": [
        "diamonds.slice(diamonds.carat > 1)\n",
        "# diamonds.slice { diamonds.carat > 1 }\n",
        "# filter"
      ],
      "id": "cf3e495f",
      "execution_count": null,
      "outputs": []
    },
    {
      "cell_type": "code",
      "metadata": {},
      "source": [
        "diamonds\n",
        "  .slice { carat > 1 }\n",
        "  .pick(:cut, :price)\n",
        "  # .pick { vectors.map { _1.numeric? } }\n",
        "  # .pick { keys.select { _1.to_s.start_with?('c') } }"
      ],
      "id": "c5929392",
      "execution_count": null,
      "outputs": []
    },
    {
      "cell_type": "code",
      "metadata": {},
      "source": [
        "diamonds\n",
        "  .slice { carat > 1 }\n",
        "  .pick(:cut, :price)\n",
        "  .group(:cut)"
      ],
      "id": "55808daa",
      "execution_count": null,
      "outputs": []
    },
    {
      "cell_type": "code",
      "metadata": {},
      "source": [
        "diamonds\n",
        "  .slice { carat > 1 }\n",
        "  .pick(:cut, :price)\n",
        "  .group(:cut)\n",
        "  .mean"
      ],
      "id": "5761396a",
      "execution_count": null,
      "outputs": []
    },
    {
      "cell_type": "code",
      "metadata": {},
      "source": [
        "diamonds\n",
        "  .slice { carat > 1 }\n",
        "  .pick(:cut, :price)\n",
        "  .group(:cut)\n",
        "  .mean\n",
        "  .sort('-mean(price)')"
      ],
      "id": "e2a5c35d",
      "execution_count": null,
      "outputs": []
    },
    {
      "cell_type": "code",
      "metadata": {},
      "source": [
        "diamonds\n",
        "  .slice { carat > 1 }\n",
        "  .pick(:cut, :price)\n",
        "  .group(:cut)\n",
        "  .mean\n",
        "  .sort('-mean(price)')\n",
        "  .rename('mean(price)': :mean_price_usd)"
      ],
      "id": "cb3bb148",
      "execution_count": null,
      "outputs": []
    },
    {
      "cell_type": "code",
      "metadata": {},
      "source": [
        "usdjpy = 110.0  # when the yen was stronger\n",
        "\n",
        "diamonds\n",
        "  .slice { carat > 1 }\n",
        "  .pick(:cut, :price)\n",
        "  .group(:cut)\n",
        "  .mean\n",
        "  .sort('-mean(price)')\n",
        "  .rename('mean(price)': :mean_price_usd)\n",
        "  # 新しい列を作る assign { [列のラベル, 列の値ベクトル] }\n",
        "  .assign { [:mean_price_jpy, mean_price_usd * usdjpy] }\n",
        "\n",
        "  # 新しい列を作る assign(列のラベル) { 列の値ベクトル }\n",
        "  # .assign(:mean_price_jpy) { mean_price_usd * usdjpy } "
      ],
      "id": "51dc2dab",
      "execution_count": null,
      "outputs": []
    },
    {
      "cell_type": "markdown",
      "metadata": {},
      "source": [
        "## データフレームの基本操作\n",
        "\n",
        "- 列を選択する: `#pick`, 列を取り除く: `#drop`\n",
        "- 行を選択する: `#slice`, 行を取り除く: `#remove`\n",
        "  - `[行 ： 列]`でアドレッシングするやり方は、列指向でベクトル演算を主体とする場合は使われにくい\n",
        "  - その代わり、選択指定子はインデックスの配列でも、ブーリアン配列でもどちらでも受け付けるようにした\n"
      ],
      "id": "c4e8172a"
    },
    {
      "cell_type": "code",
      "metadata": {
        "scrolled": true
      },
      "source": [
        "diamonds.slice { carat > 1 }\n",
        "# puts diamonds.inspect\n",
        "# diamonds.slice { [0..10, -10..-1] }"
      ],
      "id": "435600c4",
      "execution_count": null,
      "outputs": []
    },
    {
      "cell_type": "markdown",
      "metadata": {},
      "source": [
        "### DataFrames 操作メソッドの比較\n",
        "\n",
        "RedAmberの基本的な操作メソッドを [Python pandas](https://pandas.pydata.org/),\n",
        "[R Tidyverse](https://www.tidyverse.org/),\n",
        "[Julia DataFrames](https://dataframes.juliadata.org/stable/) と比較\n",
        "\n",
        "#### 列 (variables) を選択する\n",
        "\n",
        "| 機能                               | RedAmber        | Tidyverse (R)\t                  | pandas                                 | DataFrames.jl     |\n",
        "|---                                 |---              |---                              |---                                     |---                |\n",
        "| 列を選択して dataframe で返す       | **pick**, drop, []  | dplyr::select, dplyr::select_if | [], loc[], iloc[], drop, select_dtypes | [], select        |\n",
        "| 列を選択して vector で返す          | [], v\t         | dplyr::pull, [, x]\t           | [], loc[], iloc[]                      | [!, :x]           |\n",
        "| 列の順番を入れ替えた dataframeを返す | **pick**, [] \t     | relocate                        | [], reindex, loc[], iloc[]             | select,transform  |\n",
        "\n",
        "列の中身をベクトルとして取り出す\n"
      ],
      "id": "4083910f"
    },
    {
      "cell_type": "code",
      "metadata": {},
      "source": [
        "diamonds.carat\n",
        "# diamonds[:carat]\n",
        "# diamonds.v(:carat)"
      ],
      "id": "43790c39",
      "execution_count": null,
      "outputs": []
    },
    {
      "cell_type": "code",
      "metadata": {},
      "source": [
        "diamonds1 = diamonds.rename(carat: 'carat-value')\n",
        "# diamonds1.carat-value\n",
        "diamonds1['carat-value']\n",
        "# diamonds1.v('carat-value')"
      ],
      "id": "6c1ca206",
      "execution_count": null,
      "outputs": []
    },
    {
      "cell_type": "code",
      "metadata": {
        "scrolled": true
      },
      "source": [
        "diamonds1.slice { v('carat-value') > 1 }\n",
        "# diamonds1.slice { self['carat-value'] > 1 }"
      ],
      "id": "62c6edb7",
      "execution_count": null,
      "outputs": []
    },
    {
      "cell_type": "markdown",
      "metadata": {},
      "source": [
        "#### 行 (records, observations) を選択する\n",
        "\n",
        "| 機能                                     | RedAmber \t               | Tidyverse (R)               | pandas                   | DataFrames.jl |\n",
        "|---                                       |---                        |---                          |---                       |---            |\n",
        "| 論理値に従って行を選択して dataframe で返す | **slice**, filter, remove, [] | dplyr::filter               | [], filter, query, loc[] | filter        |\n",
        "| インデックスで行を選択して dataframe で返す | **slice**, remove, []         | dplyr::slice \t            | iloc[], drop             | subset        |\n",
        "| 行の順番を入れ替えた dataframeを返す       | **slice**, [] \t             | dplyr::filter, dplyr::slice | reindex, loc[], iloc[]   | permute       |\n",
        "\n",
        "#### 列を更新する / 新しい列を作る\n",
        "\n",
        "|機能 \t                       | RedAmber \t          | Tidyverse (R)                                     | pandas            | DataFrames.jl |\n",
        "|---                           |---                  |---                                                 |---                |---            |\n",
        "| 既存の列の内容を変更する       | **assign** \t            | dplyr::mutate                                    \t| assign, []=       | mapcols       |\n",
        "| 新しい列を作成する \t        | **assign**, assign_left |\tdplyr::mutate \t                                    | apply             | insertcols,.+ |\n",
        "| 新しい列を作成し、残りは捨てる | new \t               | transmute \t                                         | (dfply:)transmute | transform,insertcols,mapcols |\n",
        "| 列の名前を変更する            | **rename**              |\tdplyr::rename, dplyr::rename_with, purrr::set_names | rename, set_axis  | rename        |\n",
        "| dataframe をソートする        | sort \t              | dplyr::arrange \t                                    | sort_values       | sort          |\n"
      ],
      "id": "8953b343"
    },
    {
      "cell_type": "code",
      "metadata": {},
      "source": [
        "diamonds\n",
        "  .pick(:depth, :z)\n",
        "  .assign(:depth, :'diff(depth-z)') do\n",
        "    depth_mm = depth / 25.4\n",
        "    diff = depth_mm - z\n",
        "    [depth_mm, diff]\n",
        "  end"
      ],
      "id": "e43958cf",
      "execution_count": null,
      "outputs": []
    },
    {
      "cell_type": "markdown",
      "metadata": {},
      "source": [
        "![RedAmberの基本的なメソッド群](https://raw.githubusercontent.com/heronshoes/red_amber/main/doc/image/basic_verbs.png)\n",
        "\n",
        "※ (RedAmberで工夫したことその2) **Rubyのブロックと親和性が高い、整理されたメソッド群を作った**\n",
        "\n",
        "### よくハマってしまうミス\n",
        "\n",
        "ブロックを `instance_eval` を使ってレシーバのコンテキストでコンテキストで呼んでいる。そして`method_missing`で列名をメソッドとして呼べるようにしている。このため、\n",
        "\n",
        "- 列名とメソッド名が同じ\n",
        "- 列名とローカル変数が同じ\n",
        "\n",
        "どちらも予期しないメソッドが呼ばれて、ミスに気づきにくい\n"
      ],
      "id": "a225ac1d"
    },
    {
      "cell_type": "code",
      "metadata": {},
      "source": [
        "diamonds\n",
        "# diamonds.table"
      ],
      "id": "f27f3dc0",
      "execution_count": null,
      "outputs": []
    },
    {
      "cell_type": "code",
      "metadata": {},
      "source": [
        "diamonds.x\n",
        "diamonds.slice { x > 5 }"
      ],
      "id": "ae3f27db",
      "execution_count": null,
      "outputs": []
    },
    {
      "cell_type": "code",
      "metadata": {},
      "source": [
        "x = 0\n",
        "diamonds.slice { x > 5 }"
      ],
      "id": "338170f1",
      "execution_count": null,
      "outputs": []
    },
    {
      "cell_type": "markdown",
      "metadata": {},
      "source": [
        "Ruby は LISP-2 だから変数名とメソッド名は別の空間に存在できるけれども、適切に管理するべき。\n",
        "\n",
        "## データフレームの横持ちと縦持ち\n",
        "\n",
        "メーカー別、年別の輸入車台数データ。日本輸入車組合（ https://www.jaia-jp.org/ja/stats/ ）より。\n"
      ],
      "id": "3a21f867"
    },
    {
      "cell_type": "code",
      "metadata": {},
      "source": [
        "# csvからロードする\n",
        "import_cars = RedAmber::DataFrame.load(Arrow::Buffer.new(<<~CSV), format: :csv)\n",
        "  Year,Audi,BMW,BMW_MINI,Mercedes-Benz,VW\n",
        "  2017,28336,52527,25427,68221,49040\n",
        "  2018,26473,50982,25984,67554,51961\n",
        "  2019,24222,46814,23813,66553,46794\n",
        "  2020,22304,35712,20196,57041,36576\n",
        "  2021,22535,35905,18211,51722,35215\n",
        "CSV"
      ],
      "id": "e1b90f8e",
      "execution_count": null,
      "outputs": []
    },
    {
      "cell_type": "markdown",
      "metadata": {},
      "source": [
        "このデータフレームは「Messy」なデータと呼ばれ、データ分析や可視化に適していないとされています。\n",
        "\n",
        "日本語では、表が横に長いことから「横持ち」のデータと呼ばれます。\n",
        "\n",
        "このデータをデータ分析や可視化に適した「Tidy　（縦持ち）」なデータフレームにするためには、`#to_long`を使います。\n",
        "\n",
        "（Tidy, Messyは　Rにおけるデータ処理の神様である　Hadely Wickham の用語です)\n"
      ],
      "id": "e3a28092"
    },
    {
      "cell_type": "code",
      "metadata": {},
      "source": [
        "import_cars.to_long\n",
        "\n",
        "# (:Year, name: :Manufactures, value: :n_of_imported)"
      ],
      "id": "a6bcaf06",
      "execution_count": null,
      "outputs": []
    },
    {
      "cell_type": "markdown",
      "metadata": {},
      "source": [
        "縦持ちのデータを横持ちに戻すには`#to_wide`を使う。\n"
      ],
      "id": "8c265645"
    },
    {
      "cell_type": "code",
      "metadata": {},
      "source": [
        "df_wide = df_long.to_wide\n",
        "\n",
        "# (name: :Year, value: :n_of_imported)"
      ],
      "id": "b16d440e",
      "execution_count": null,
      "outputs": []
    },
    {
      "cell_type": "code",
      "metadata": {},
      "source": [
        "df_wide.transpose"
      ],
      "id": "be59750b",
      "execution_count": null,
      "outputs": []
    },
    {
      "cell_type": "markdown",
      "metadata": {},
      "source": [
        "![データフレームの変形(reshape)](https://raw.githubusercontent.com/heronshoes/red_amber/main/doc/image/reshaping_dataframe.png)\n",
        "\n",
        "### dataframe を変形するメソッドの比較\n",
        "\n",
        "| 機能 \t                                | RedAmber  | Tidyverse (R)       | pandas      | DataFrames.jl |\n",
        "|---                                   |---        |---                  |---           |---            |\n",
        "| 列を行に積む (long dataframe にする)   | to_long   | tidyr::pivot_longer | melt         | stack         |\n",
        "| 行を列に集める (wide dataframe にする) | to_wide   | tidyr::pivot_wider  | pivot        | unstack       |\n",
        "| wide dataframe を転置する             | transpose | transpose, t \t      | transpose, T | permutedims   |\n",
        "\n",
        "※ (RedAmberで工夫したことその3) **良い感じに操作できるデータフレームの変形操作**\n",
        "\n",
        "## Groupの取扱い\n",
        "\n",
        "グループはデータフレームでよく登場する重要な概念。例えば売り上げのデータがあったとして、\n",
        "\n",
        "- 店舗毎の売り上げ合計を求める\n",
        "- 月毎に売り上げ合計上位３位にある商品を求める\n",
        "\n",
        "などのタスクの「毎」を取り扱うのがグループ！\n",
        "\n",
        "※ (RedAmberで工夫したことその3) **忘れていても思い出しながら使える、データフレームの変形操作を作った**\n",
        "\n",
        "## グループ化とその周辺\n",
        "\n",
        "グループ化とは、いくつかの列の値に基づいてデータフレームを**グループに分け**、それぞれの値を**集約する**操作。\n",
        "\n",
        "関連する操作に、分析関数（ウィンドウ）関数とローリングウィンドウ関数がある。分析関数とは、（私の理解では）集約しないグループ化であり、ローリングウィンドウ関数の代表的な使い方は移動平均である。\n",
        "\n",
        "![グループ化](https://user-images.githubusercontent.com/63298319/221889155-21a37b7c-ef41-4f41-a72a-a2d4da983591.png)\n"
      ],
      "id": "c3a0a18c"
    },
    {
      "cell_type": "code",
      "metadata": {},
      "source": [
        "dataframe = RedAmber::DataFrame.new(\n",
        "  x: 0..5,\n",
        "  y: %w[A A B B B C],\n",
        "  z: [false, true, false, nil, true, false]\n",
        ")"
      ],
      "id": "3dae6821",
      "execution_count": null,
      "outputs": []
    },
    {
      "cell_type": "code",
      "metadata": {},
      "source": [
        "dataframe.group(:y)"
      ],
      "id": "7f9be05d",
      "execution_count": null,
      "outputs": []
    },
    {
      "cell_type": "code",
      "metadata": {},
      "source": [
        "dataframe.group(:y).sum\n",
        "# dataframe.group(:y).summarize { sum(:x) }a"
      ],
      "id": "7a1e7367",
      "execution_count": null,
      "outputs": []
    },
    {
      "cell_type": "code",
      "metadata": {},
      "source": [
        "dataframe.x"
      ],
      "id": "24dba929",
      "execution_count": null,
      "outputs": []
    },
    {
      "cell_type": "markdown",
      "metadata": {},
      "source": [
        "![SubFramesコンセプト](https://user-images.githubusercontent.com/63298319/213947955-9e4d7a5f-0315-4a0e-bd09-484137645fca.png)\n",
        "\n",
        "Rのtidyrでは下記のように「nest」という概念を導入している。\n",
        "\n",
        "これはデータフレームの内部にデータフレームを取り込む概念といえる。RedAmberのSubFramesは、データフレームの集合セットを外部に広げていくような考え方だと思っている。\n",
        "\n",
        "![参考:Rのデータフレームにおけるnest](https://user-images.githubusercontent.com/63298319/224402474-0d02d8ca-64fc-450f-a44e-c65c727d1226.png)\n",
        "\n",
        "SubFramesの場合：\n",
        "\n",
        "![SubFrames](https://user-images.githubusercontent.com/63298319/224340732-4558b2a4-61dd-458d-a3bf-85e230a4a3dc.png)\n"
      ],
      "id": "a9e28ff6"
    },
    {
      "cell_type": "code",
      "metadata": {},
      "source": [
        "dataframe\n",
        "  .sub_by_value(:y)"
      ],
      "id": "111efdf9",
      "execution_count": null,
      "outputs": []
    },
    {
      "cell_type": "code",
      "metadata": {},
      "source": [
        "dataframe\n",
        "  .sub_by_value(:y)\n",
        "  .aggregate do\n",
        "    {\n",
        "      y: y.one,\n",
        "      sum_x: x.sum,\n",
        "    }\n",
        "  end"
      ],
      "id": "59224507",
      "execution_count": null,
      "outputs": []
    },
    {
      "cell_type": "markdown",
      "metadata": {},
      "source": [
        "![移動平均](https://user-images.githubusercontent.com/63298319/224350718-020def87-7894-418f-83d1-80ca99f60f07.png)\n"
      ],
      "id": "23fd4d7d"
    },
    {
      "cell_type": "code",
      "metadata": {},
      "source": [
        "dataframe\n",
        "  .sub_by_window(size: 3)\n",
        "  .aggregate do\n",
        "    {\n",
        "      mean_x: x.mean,\n",
        "      count_z: z.count,\n",
        "    }\n",
        "  end"
      ],
      "id": "7d152c5b",
      "execution_count": null,
      "outputs": []
    },
    {
      "cell_type": "markdown",
      "metadata": {},
      "source": [
        "集約しないグループをSubFramesでやる\n",
        "\n",
        "![assign](https://user-images.githubusercontent.com/63298319/224435740-ebf6af40-3aa4-4855-8c20-e957e3a321f2.png)\n"
      ],
      "id": "a40c35d9"
    },
    {
      "cell_type": "code",
      "metadata": {},
      "source": [
        "dataframe\n",
        "  .assign do\n",
        "    {\n",
        "      x: indices(1),\n",
        "      c: x.cumsum,\n",
        "    }\n",
        "  end"
      ],
      "id": "03d3fb8d",
      "execution_count": null,
      "outputs": []
    },
    {
      "cell_type": "code",
      "metadata": {},
      "source": [
        "dataframe\n",
        "  .sub_by_value(:y)\n",
        "  .assign do\n",
        "    {\n",
        "      x: indices(1),\n",
        "      c: x.cumsum,\n",
        "    }\n",
        "  end\n",
        "  # .concatenate"
      ],
      "id": "b1052d29",
      "execution_count": null,
      "outputs": []
    },
    {
      "cell_type": "markdown",
      "metadata": {},
      "source": [
        "データフレームの部分集合としてのSubFramesオブジェクトにより、サブデータフレームの処理は単体のデータフレームの処理と全く同じスタイルで書ける。\n",
        "\n",
        "実際、`SubFrames#assign` の定義は `DataFrame`に丸投げである。\n",
        "```ruby\n",
        "  class SubFrames\n",
        "    def assign(...)\n",
        "      map { |df| df.assign(...) }\n",
        "    e\n",
        "  endnd\n",
        "```\n",
        "\n",
        "一方で、効率が損なわれていることがSubFramesの欠点。\n",
        "\n",
        "## その他、Grantで頑張ったこと\n",
        "\n",
        "- 初期の実装に比べて大幅に高速化できた\n",
        "- ドキュメント整備を頑張った（YARDドキュメントカバー率100%、exampleも豊富に）\n",
        "- テストカバー率を頑張った（100%）\n",
        "\n",
        "## まだまだこれからなこと\n",
        "\n",
        "- Arrowの改良に合わせて機能を拡充していく\n",
        "- SubFramesが遅い\n",
        "- QueryをLazyに実行する仕組み\n",
        "- Rubyデータ処理全般を盛り上げていく\n",
        "\n",
        "## 総括\n",
        "- Rubyで整備が遅れていたデータフレームの分野で、Arrowデータを直接取り扱えるライブラリを開発することができた。\n",
        "- 「Rubyらしく書けるデータフレーム処理」を、ブロックによる記述、Ruby汎用のコレクションクラスの多用などを通じて実現した。\n",
        "- データフレームの主要な機能をほぼカバーできた。\n",
        "- 操作例の豊富なドキュメントを整備した。\n",
        "- 10月4日(v0.2.2)..3月11日(v0.4.1)のコードの差は、77ファイルが変更され、14702行の追加、2637行の削除であった。（ドキュメントの寄与が大きい）\n",
        "- コードを見直し、高速化を図った。\n",
        "- テストカバー率を100%に引上げ、一定のコード品質を確保した。\n",
        "- 他のデータフレームライブラリにない、新しい「SubFrames」という概念を導入し実験的機能として実装した。シンプルかつRubyらしい一貫した書き方でグループやウィンドウの処理ができることを示した。速度の向上は今後の課題である。\n",
        "- 上流のRed Arrowに対して必要な機能を充実させるための提案を行うとともに、テーブル結合操作の改善にも貢献できた。\n",
        "- RedAmberの開発のヒントになったライブラリRoverの作者Andrew Kane氏は、RustのPolarsをベースにしたPolars-rubyを誕生させた。Polarsは高速性に特徴があるArrow Formatを読み書きできるライブラリで今後が非常に期待できる。RedAmberにもLazyFrameなどの先進的な機能を取り入れていきたい。\n",
        "\n",
        "## 謝辞\n",
        " このプロジェクトの実施にあたっては、メンターの村田(@mrkn)さんに常に的確な助言と温かいサポートを賜りました。 須藤(@kou)さんにはRed ArrowのコミットやRedAmberの不具合に対する助言と共に、Red Data Toolsの月例配信でもお世話になりました。 Benson Muite(@bkmgit)さんにはFedraのテストワークフローの追加と、他のデータフレームとの比較表のJuliaの部分を追加して頂きました。 @kojix2さんにはYARDドキュメント生成ワークフローの追加、ドキュメントの修正などでコードに貢献して頂きました。またそれ以外でもメソッド名に対する議論などでRed Data ToolsのGitterでメンバーの方々には貴重なご意見やご提案を頂いております。皆様の支援に対しましてこの場をお借りして深く感謝申し上げます。\n",
        " \n",
        "最後にこのような機会を与えてくださったRuby Assciation、Rubyを生みそして育ててくださっているまつもとさんはじめRubyコミュニティの皆様に深く感謝申し上げます。\n"
      ],
      "id": "1ef55310"
    }
  ],
  "metadata": {
    "kernelspec": {
      "name": "ruby",
      "language": "ruby",
      "display_name": "Ruby 3.2.2"
    }
  },
  "nbformat": 4,
  "nbformat_minor": 5
}